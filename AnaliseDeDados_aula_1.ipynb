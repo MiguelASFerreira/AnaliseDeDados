{
  "nbformat": 4,
  "nbformat_minor": 0,
  "metadata": {
    "colab": {
      "provenance": [],
      "authorship_tag": "ABX9TyMkb/zOjW0BPYyhDNwycrMt",
      "include_colab_link": true
    },
    "kernelspec": {
      "name": "python3",
      "display_name": "Python 3"
    },
    "language_info": {
      "name": "python"
    }
  },
  "cells": [
    {
      "cell_type": "markdown",
      "metadata": {
        "id": "view-in-github",
        "colab_type": "text"
      },
      "source": [
        "<a href=\"https://colab.research.google.com/github/MiguelASFerreira/AnaliseDeDados/blob/main/AnaliseDeDados_aula_1.ipynb\" target=\"_parent\"><img src=\"https://colab.research.google.com/assets/colab-badge.svg\" alt=\"Open In Colab\"/></a>"
      ]
    },
    {
      "cell_type": "code",
      "execution_count": 9,
      "metadata": {
        "colab": {
          "base_uri": "https://localhost:8080/"
        },
        "id": "wFmPbZgRb02_",
        "outputId": "9fc4b664-387a-428d-8c30-64a86c835e76"
      },
      "outputs": [
        {
          "output_type": "stream",
          "name": "stdout",
          "text": [
            "<class 'pandas.core.frame.DataFrame'>\n",
            "RangeIndex: 446 entries, 0 to 445\n",
            "Data columns (total 11 columns):\n",
            " #   Column      Non-Null Count  Dtype  \n",
            "---  ------      --------------  -----  \n",
            " 0   symbol      446 non-null    object \n",
            " 1   baseAsset   446 non-null    object \n",
            " 2   quoteAsset  446 non-null    object \n",
            " 3   openPrice   446 non-null    float64\n",
            " 4   lowPrice    446 non-null    float64\n",
            " 5   highPrice   446 non-null    float64\n",
            " 6   lastPrice   446 non-null    float64\n",
            " 7   volume      446 non-null    float64\n",
            " 8   bidPrice    446 non-null    float64\n",
            " 9   askPrice    446 non-null    float64\n",
            " 10  at          446 non-null    int64  \n",
            "dtypes: float64(7), int64(1), object(3)\n",
            "memory usage: 38.5+ KB\n"
          ]
        }
      ],
      "source": [
        "import requests\n",
        "import pandas as pd\n",
        "\n",
        "response = requests.get(\"https://api.wazirx.com/sapi/v1/tickers/24hr\")\n",
        "\n",
        "df = pd.read_json(response.text)\n",
        "\n",
        "df[\"variacao\"] = df[\"askPrice\"] - df[\"lastPrice\"]\n",
        "\n",
        "variacao = df[[\"symbol\",\"variacao\"]]\n",
        "variacao = variacao.sort_values(\"variacao\", ascending=False)\n",
        "\n",
        "\n",
        "variacao.describe()"
      ]
    }
  ]
}