{
  "nbformat": 4,
  "nbformat_minor": 0,
  "metadata": {
    "colab": {
      "provenance": [],
      "authorship_tag": "ABX9TyNCRoqRmipxVkfeAanFHUFv",
      "include_colab_link": true
    },
    "kernelspec": {
      "name": "python3",
      "display_name": "Python 3"
    },
    "language_info": {
      "name": "python"
    }
  },
  "cells": [
    {
      "cell_type": "markdown",
      "metadata": {
        "id": "view-in-github",
        "colab_type": "text"
      },
      "source": [
        "<a href=\"https://colab.research.google.com/github/MiguelASFerreira/AnaliseDeDados/blob/main/TDE3.ipynb\" target=\"_parent\"><img src=\"https://colab.research.google.com/assets/colab-badge.svg\" alt=\"Open In Colab\"/></a>"
      ]
    },
    {
      "cell_type": "code",
      "execution_count": 1,
      "metadata": {
        "id": "-WOUAO5y5aIw"
      },
      "outputs": [],
      "source": [
        "import pandas as pd"
      ]
    },
    {
      "cell_type": "code",
      "source": [
        "dados = pd.read_csv('natacao.csv')\n",
        "dados_distancia = dados['Distancia']"
      ],
      "metadata": {
        "id": "gu8Z_oSx5irW"
      },
      "execution_count": 85,
      "outputs": []
    },
    {
      "cell_type": "code",
      "source": [
        "dados"
      ],
      "metadata": {
        "colab": {
          "base_uri": "https://localhost:8080/",
          "height": 467
        },
        "id": "4zeU_Zi75wDu",
        "outputId": "d3317909-2992-41b4-ba29-8496427a28cf"
      },
      "execution_count": 3,
      "outputs": [
        {
          "output_type": "execute_result",
          "data": {
            "text/plain": [
              "           Sede   Ano Distancia  Estilo  Revesamento?     Genero Equipe  \\\n",
              "0         Tokyo  2020      100m  Costas             0  Masculino    ROC   \n",
              "1         Tokyo  2020      100m  Costas             0  Masculino    ROC   \n",
              "2         Tokyo  2020      100m  Costas             0  Masculino    USA   \n",
              "3         Tokyo  2020      100m  Costas             0  Masculino    ITA   \n",
              "4         Tokyo  2020      100m  Costas             0  Masculino    CHN   \n",
              "...         ...   ...       ...     ...           ...        ...    ...   \n",
              "4354  Stockholm  1912     4x100   Livre             1   Feminino    SWE   \n",
              "4355  Stockholm  1912     4x200   Livre             1  Masculino    AUS   \n",
              "4356  Stockholm  1912     4x200   Livre             1  Masculino    USA   \n",
              "4357  Stockholm  1912     4x200   Livre             1  Masculino    GBR   \n",
              "4358  Stockholm  1912     4x200   Livre             1  Masculino    GER   \n",
              "\n",
              "                                                 Atleta            Tempo  \\\n",
              "0                                          Evgeny Rylov            51.98   \n",
              "1                                    Kliment Kolesnikov               52   \n",
              "2                                           Ryan Murphy            52.19   \n",
              "3                                         Thomas Ceccon             52.3   \n",
              "4                                              Jiayu Xu            52.51   \n",
              "...                                                 ...              ...   \n",
              "4354  Greta Carlsson, Vera Thulin, Sonja Johnsson, G...              NaN   \n",
              "4355  Malcolm Champion, Cecil Healy, Harold H. Hardw...  00:10:11.200000   \n",
              "4356  Duke Paoa Kahanamoku, Harry J. Hebner, Perry M...  00:10:20.200000   \n",
              "4357  Thomas Sidney Battersby, Henry Taylor, John Ga...  00:10:28.600000   \n",
              "4358  Georg Kunisch, Kurt Bretting, Oscar Schiele, M...  00:10:37.000000   \n",
              "\n",
              "      Posicao  \n",
              "0           1  \n",
              "1           2  \n",
              "2           3  \n",
              "3           4  \n",
              "4           4  \n",
              "...       ...  \n",
              "4354        5  \n",
              "4355        1  \n",
              "4356        2  \n",
              "4357        3  \n",
              "4358        4  \n",
              "\n",
              "[4359 rows x 10 columns]"
            ],
            "text/html": [
              "\n",
              "  <div id=\"df-b8151e72-85f4-4a91-8458-86931c3550b6\">\n",
              "    <div class=\"colab-df-container\">\n",
              "      <div>\n",
              "<style scoped>\n",
              "    .dataframe tbody tr th:only-of-type {\n",
              "        vertical-align: middle;\n",
              "    }\n",
              "\n",
              "    .dataframe tbody tr th {\n",
              "        vertical-align: top;\n",
              "    }\n",
              "\n",
              "    .dataframe thead th {\n",
              "        text-align: right;\n",
              "    }\n",
              "</style>\n",
              "<table border=\"1\" class=\"dataframe\">\n",
              "  <thead>\n",
              "    <tr style=\"text-align: right;\">\n",
              "      <th></th>\n",
              "      <th>Sede</th>\n",
              "      <th>Ano</th>\n",
              "      <th>Distancia</th>\n",
              "      <th>Estilo</th>\n",
              "      <th>Revesamento?</th>\n",
              "      <th>Genero</th>\n",
              "      <th>Equipe</th>\n",
              "      <th>Atleta</th>\n",
              "      <th>Tempo</th>\n",
              "      <th>Posicao</th>\n",
              "    </tr>\n",
              "  </thead>\n",
              "  <tbody>\n",
              "    <tr>\n",
              "      <th>0</th>\n",
              "      <td>Tokyo</td>\n",
              "      <td>2020</td>\n",
              "      <td>100m</td>\n",
              "      <td>Costas</td>\n",
              "      <td>0</td>\n",
              "      <td>Masculino</td>\n",
              "      <td>ROC</td>\n",
              "      <td>Evgeny Rylov</td>\n",
              "      <td>51.98</td>\n",
              "      <td>1</td>\n",
              "    </tr>\n",
              "    <tr>\n",
              "      <th>1</th>\n",
              "      <td>Tokyo</td>\n",
              "      <td>2020</td>\n",
              "      <td>100m</td>\n",
              "      <td>Costas</td>\n",
              "      <td>0</td>\n",
              "      <td>Masculino</td>\n",
              "      <td>ROC</td>\n",
              "      <td>Kliment Kolesnikov</td>\n",
              "      <td>52</td>\n",
              "      <td>2</td>\n",
              "    </tr>\n",
              "    <tr>\n",
              "      <th>2</th>\n",
              "      <td>Tokyo</td>\n",
              "      <td>2020</td>\n",
              "      <td>100m</td>\n",
              "      <td>Costas</td>\n",
              "      <td>0</td>\n",
              "      <td>Masculino</td>\n",
              "      <td>USA</td>\n",
              "      <td>Ryan Murphy</td>\n",
              "      <td>52.19</td>\n",
              "      <td>3</td>\n",
              "    </tr>\n",
              "    <tr>\n",
              "      <th>3</th>\n",
              "      <td>Tokyo</td>\n",
              "      <td>2020</td>\n",
              "      <td>100m</td>\n",
              "      <td>Costas</td>\n",
              "      <td>0</td>\n",
              "      <td>Masculino</td>\n",
              "      <td>ITA</td>\n",
              "      <td>Thomas Ceccon</td>\n",
              "      <td>52.3</td>\n",
              "      <td>4</td>\n",
              "    </tr>\n",
              "    <tr>\n",
              "      <th>4</th>\n",
              "      <td>Tokyo</td>\n",
              "      <td>2020</td>\n",
              "      <td>100m</td>\n",
              "      <td>Costas</td>\n",
              "      <td>0</td>\n",
              "      <td>Masculino</td>\n",
              "      <td>CHN</td>\n",
              "      <td>Jiayu Xu</td>\n",
              "      <td>52.51</td>\n",
              "      <td>4</td>\n",
              "    </tr>\n",
              "    <tr>\n",
              "      <th>...</th>\n",
              "      <td>...</td>\n",
              "      <td>...</td>\n",
              "      <td>...</td>\n",
              "      <td>...</td>\n",
              "      <td>...</td>\n",
              "      <td>...</td>\n",
              "      <td>...</td>\n",
              "      <td>...</td>\n",
              "      <td>...</td>\n",
              "      <td>...</td>\n",
              "    </tr>\n",
              "    <tr>\n",
              "      <th>4354</th>\n",
              "      <td>Stockholm</td>\n",
              "      <td>1912</td>\n",
              "      <td>4x100</td>\n",
              "      <td>Livre</td>\n",
              "      <td>1</td>\n",
              "      <td>Feminino</td>\n",
              "      <td>SWE</td>\n",
              "      <td>Greta Carlsson, Vera Thulin, Sonja Johnsson, G...</td>\n",
              "      <td>NaN</td>\n",
              "      <td>5</td>\n",
              "    </tr>\n",
              "    <tr>\n",
              "      <th>4355</th>\n",
              "      <td>Stockholm</td>\n",
              "      <td>1912</td>\n",
              "      <td>4x200</td>\n",
              "      <td>Livre</td>\n",
              "      <td>1</td>\n",
              "      <td>Masculino</td>\n",
              "      <td>AUS</td>\n",
              "      <td>Malcolm Champion, Cecil Healy, Harold H. Hardw...</td>\n",
              "      <td>00:10:11.200000</td>\n",
              "      <td>1</td>\n",
              "    </tr>\n",
              "    <tr>\n",
              "      <th>4356</th>\n",
              "      <td>Stockholm</td>\n",
              "      <td>1912</td>\n",
              "      <td>4x200</td>\n",
              "      <td>Livre</td>\n",
              "      <td>1</td>\n",
              "      <td>Masculino</td>\n",
              "      <td>USA</td>\n",
              "      <td>Duke Paoa Kahanamoku, Harry J. Hebner, Perry M...</td>\n",
              "      <td>00:10:20.200000</td>\n",
              "      <td>2</td>\n",
              "    </tr>\n",
              "    <tr>\n",
              "      <th>4357</th>\n",
              "      <td>Stockholm</td>\n",
              "      <td>1912</td>\n",
              "      <td>4x200</td>\n",
              "      <td>Livre</td>\n",
              "      <td>1</td>\n",
              "      <td>Masculino</td>\n",
              "      <td>GBR</td>\n",
              "      <td>Thomas Sidney Battersby, Henry Taylor, John Ga...</td>\n",
              "      <td>00:10:28.600000</td>\n",
              "      <td>3</td>\n",
              "    </tr>\n",
              "    <tr>\n",
              "      <th>4358</th>\n",
              "      <td>Stockholm</td>\n",
              "      <td>1912</td>\n",
              "      <td>4x200</td>\n",
              "      <td>Livre</td>\n",
              "      <td>1</td>\n",
              "      <td>Masculino</td>\n",
              "      <td>GER</td>\n",
              "      <td>Georg Kunisch, Kurt Bretting, Oscar Schiele, M...</td>\n",
              "      <td>00:10:37.000000</td>\n",
              "      <td>4</td>\n",
              "    </tr>\n",
              "  </tbody>\n",
              "</table>\n",
              "<p>4359 rows × 10 columns</p>\n",
              "</div>\n",
              "      <button class=\"colab-df-convert\" onclick=\"convertToInteractive('df-b8151e72-85f4-4a91-8458-86931c3550b6')\"\n",
              "              title=\"Convert this dataframe to an interactive table.\"\n",
              "              style=\"display:none;\">\n",
              "        \n",
              "  <svg xmlns=\"http://www.w3.org/2000/svg\" height=\"24px\"viewBox=\"0 0 24 24\"\n",
              "       width=\"24px\">\n",
              "    <path d=\"M0 0h24v24H0V0z\" fill=\"none\"/>\n",
              "    <path d=\"M18.56 5.44l.94 2.06.94-2.06 2.06-.94-2.06-.94-.94-2.06-.94 2.06-2.06.94zm-11 1L8.5 8.5l.94-2.06 2.06-.94-2.06-.94L8.5 2.5l-.94 2.06-2.06.94zm10 10l.94 2.06.94-2.06 2.06-.94-2.06-.94-.94-2.06-.94 2.06-2.06.94z\"/><path d=\"M17.41 7.96l-1.37-1.37c-.4-.4-.92-.59-1.43-.59-.52 0-1.04.2-1.43.59L10.3 9.45l-7.72 7.72c-.78.78-.78 2.05 0 2.83L4 21.41c.39.39.9.59 1.41.59.51 0 1.02-.2 1.41-.59l7.78-7.78 2.81-2.81c.8-.78.8-2.07 0-2.86zM5.41 20L4 18.59l7.72-7.72 1.47 1.35L5.41 20z\"/>\n",
              "  </svg>\n",
              "      </button>\n",
              "      \n",
              "  <style>\n",
              "    .colab-df-container {\n",
              "      display:flex;\n",
              "      flex-wrap:wrap;\n",
              "      gap: 12px;\n",
              "    }\n",
              "\n",
              "    .colab-df-convert {\n",
              "      background-color: #E8F0FE;\n",
              "      border: none;\n",
              "      border-radius: 50%;\n",
              "      cursor: pointer;\n",
              "      display: none;\n",
              "      fill: #1967D2;\n",
              "      height: 32px;\n",
              "      padding: 0 0 0 0;\n",
              "      width: 32px;\n",
              "    }\n",
              "\n",
              "    .colab-df-convert:hover {\n",
              "      background-color: #E2EBFA;\n",
              "      box-shadow: 0px 1px 2px rgba(60, 64, 67, 0.3), 0px 1px 3px 1px rgba(60, 64, 67, 0.15);\n",
              "      fill: #174EA6;\n",
              "    }\n",
              "\n",
              "    [theme=dark] .colab-df-convert {\n",
              "      background-color: #3B4455;\n",
              "      fill: #D2E3FC;\n",
              "    }\n",
              "\n",
              "    [theme=dark] .colab-df-convert:hover {\n",
              "      background-color: #434B5C;\n",
              "      box-shadow: 0px 1px 3px 1px rgba(0, 0, 0, 0.15);\n",
              "      filter: drop-shadow(0px 1px 2px rgba(0, 0, 0, 0.3));\n",
              "      fill: #FFFFFF;\n",
              "    }\n",
              "  </style>\n",
              "\n",
              "      <script>\n",
              "        const buttonEl =\n",
              "          document.querySelector('#df-b8151e72-85f4-4a91-8458-86931c3550b6 button.colab-df-convert');\n",
              "        buttonEl.style.display =\n",
              "          google.colab.kernel.accessAllowed ? 'block' : 'none';\n",
              "\n",
              "        async function convertToInteractive(key) {\n",
              "          const element = document.querySelector('#df-b8151e72-85f4-4a91-8458-86931c3550b6');\n",
              "          const dataTable =\n",
              "            await google.colab.kernel.invokeFunction('convertToInteractive',\n",
              "                                                     [key], {});\n",
              "          if (!dataTable) return;\n",
              "\n",
              "          const docLinkHtml = 'Like what you see? Visit the ' +\n",
              "            '<a target=\"_blank\" href=https://colab.research.google.com/notebooks/data_table.ipynb>data table notebook</a>'\n",
              "            + ' to learn more about interactive tables.';\n",
              "          element.innerHTML = '';\n",
              "          dataTable['output_type'] = 'display_data';\n",
              "          await google.colab.output.renderOutput(dataTable, element);\n",
              "          const docLink = document.createElement('div');\n",
              "          docLink.innerHTML = docLinkHtml;\n",
              "          element.appendChild(docLink);\n",
              "        }\n",
              "      </script>\n",
              "    </div>\n",
              "  </div>\n",
              "  "
            ]
          },
          "metadata": {},
          "execution_count": 3
        }
      ]
    },
    {
      "cell_type": "markdown",
      "source": [
        "\n",
        "Tipos de Dados\n",
        "1. Sede: Qualitativa\n",
        "2. Ano: Quantativa\n",
        "3. Distancia: Quantitativa\n",
        "4. Estilo: Qualitativa\n",
        "5. Revezamento: Quantitativa\n",
        "6. Genero: Qualitativa\n",
        "7. Equipe: Qualitativa\n",
        "8. Atleta: Qualitativa\n",
        "1. Tempo: Qualitativa\n",
        "1. Posicao: Quantitativa\n"
      ],
      "metadata": {
        "id": "BG5FHx-p6zSj"
      }
    },
    {
      "cell_type": "markdown",
      "source": [
        "Media\n"
      ],
      "metadata": {
        "id": "vyKQit8J7Fx2"
      }
    },
    {
      "cell_type": "code",
      "source": [
        "media = dados['Posicao'].mean()\n",
        "print(media)"
      ],
      "metadata": {
        "colab": {
          "base_uri": "https://localhost:8080/"
        },
        "id": "lCnwHRWO7Hit",
        "outputId": "0880ab36-d283-495c-9c05-37f96de5176a"
      },
      "execution_count": 18,
      "outputs": [
        {
          "output_type": "stream",
          "name": "stdout",
          "text": [
            "3.16494608855242\n"
          ]
        }
      ]
    },
    {
      "cell_type": "markdown",
      "source": [
        "Mediana"
      ],
      "metadata": {
        "id": "VvT-uhAx7kOM"
      }
    },
    {
      "cell_type": "code",
      "source": [
        "mediana =  dados['Posicao'].median()\n",
        "print(mediana)"
      ],
      "metadata": {
        "colab": {
          "base_uri": "https://localhost:8080/"
        },
        "id": "CnAx5SkD7lbx",
        "outputId": "dc4e9005-5c6c-446c-a0fc-96df95925b6d"
      },
      "execution_count": 19,
      "outputs": [
        {
          "output_type": "stream",
          "name": "stdout",
          "text": [
            "4.0\n"
          ]
        }
      ]
    },
    {
      "cell_type": "markdown",
      "source": [
        "Moda"
      ],
      "metadata": {
        "id": "ihosVbKK7vdN"
      }
    },
    {
      "cell_type": "code",
      "source": [
        "moda = dados['Posicao'].mode()\n",
        "print(moda)"
      ],
      "metadata": {
        "colab": {
          "base_uri": "https://localhost:8080/"
        },
        "id": "NA_iBfmD7xFo",
        "outputId": "6e93202d-38fc-45d8-b665-c4259f06dbd6"
      },
      "execution_count": 16,
      "outputs": [
        {
          "output_type": "stream",
          "name": "stdout",
          "text": [
            "0    4\n",
            "Name: Posicao, dtype: int64\n"
          ]
        }
      ]
    },
    {
      "cell_type": "markdown",
      "source": [
        "Desvio Padrão"
      ],
      "metadata": {
        "id": "O5SeWumc70zB"
      }
    },
    {
      "cell_type": "code",
      "source": [
        "dp = dados['Posicao'].std()\n",
        "print(dp)"
      ],
      "metadata": {
        "colab": {
          "base_uri": "https://localhost:8080/"
        },
        "id": "tBQBe8dw73U9",
        "outputId": "9eecd098-af8d-4962-902d-25d434ccdbc6"
      },
      "execution_count": 17,
      "outputs": [
        {
          "output_type": "stream",
          "name": "stdout",
          "text": [
            "1.1897145795144424\n"
          ]
        }
      ]
    },
    {
      "cell_type": "markdown",
      "source": [
        "Maoir nível de participação masculino"
      ],
      "metadata": {
        "id": "kBIKNt8-8eSx"
      }
    },
    {
      "cell_type": "code",
      "source": [
        "participacoes = {}\n",
        "\n",
        "for index, row in dados.iterrows():\n",
        "    if row['Genero'] == 'Masculino':\n",
        "        atleta = row['Atleta']\n",
        "        \n",
        "        if atleta in participacoes:\n",
        "            participacoes[atleta] += 1\n",
        "        else:\n",
        "            participacoes[atleta] = 1\n",
        "\n",
        "mais_participacoes = max(participacoes, key=participacoes.get)\n",
        "\n",
        "print(\"Atleta:\", mais_participacoes)\n"
      ],
      "metadata": {
        "colab": {
          "base_uri": "https://localhost:8080/"
        },
        "id": "LOU_T7al8hS0",
        "outputId": "5b0ee040-c09b-433c-c6d3-7315001485ac"
      },
      "execution_count": 32,
      "outputs": [
        {
          "output_type": "stream",
          "name": "stdout",
          "text": [
            "Atleta: Michael Phelps\n"
          ]
        }
      ]
    },
    {
      "cell_type": "markdown",
      "source": [
        "Maoir nível de participação feminino"
      ],
      "metadata": {
        "id": "MD1_f5zbFSCE"
      }
    },
    {
      "cell_type": "code",
      "source": [
        "participacoes = {}\n",
        "\n",
        "for index, row in dados.iterrows():\n",
        "    if row['Genero'] == 'Feminino':\n",
        "        atleta = row['Atleta']\n",
        "        \n",
        "        if atleta in participacoes:\n",
        "            participacoes[atleta] += 1\n",
        "        else:\n",
        "            participacoes[atleta] = 1\n",
        "\n",
        "mais_participacoes = max(participacoes, key=participacoes.get)\n",
        "\n",
        "print(\"Atleta:\", mais_participacoes)\n"
      ],
      "metadata": {
        "colab": {
          "base_uri": "https://localhost:8080/"
        },
        "id": "swMNPbsnFT3M",
        "outputId": "c5e44a4d-6a0b-4fbf-bed8-cbf8086b0b0f"
      },
      "execution_count": 88,
      "outputs": [
        {
          "output_type": "stream",
          "name": "stdout",
          "text": [
            "Atleta: Kirsty Leigh Coventry\n"
          ]
        }
      ]
    },
    {
      "cell_type": "markdown",
      "source": [
        "Páis de Brozne"
      ],
      "metadata": {
        "id": "qZ_23ULsF3N6"
      }
    },
    {
      "cell_type": "code",
      "source": [
        "medalhas = {}\n",
        "\n",
        "for index, row in dados.iterrows():\n",
        "    if row['Posicao'] == 3:\n",
        "        sede = row['Equipe']\n",
        "        \n",
        "        if sede in medalhas:\n",
        "            medalhas[sede] += 1\n",
        "        else:\n",
        "            medalhas[sede] = 1\n",
        "\n",
        "mais_medalhas = max(medalhas, key=medalhas.get)\n",
        "\n",
        "print(\"Equipe:\", mais_medalhas)\n"
      ],
      "metadata": {
        "colab": {
          "base_uri": "https://localhost:8080/"
        },
        "id": "9L6rki1_F6A6",
        "outputId": "aa6a04a3-3110-47f9-9484-62f3bc7e9b76"
      },
      "execution_count": 89,
      "outputs": [
        {
          "output_type": "stream",
          "name": "stdout",
          "text": [
            "Equipe: USA\n"
          ]
        }
      ]
    }
  ]
}